{
  "nbformat": 4,
  "nbformat_minor": 0,
  "metadata": {
    "colab": {
      "provenance": []
    },
    "kernelspec": {
      "name": "python3",
      "display_name": "Python 3"
    },
    "language_info": {
      "name": "python"
    }
  },
  "cells": [
    {
      "cell_type": "markdown",
      "source": [
        "Sorular pseudo kodu ile cevaplanacak."
      ],
      "metadata": {
        "id": "oIK2fsY8A35h"
      }
    },
    {
      "cell_type": "code",
      "source": [
        "#SORU 1: Kullanıcıdan iki sayı alarak bu sayıları toplayan bir programın pseudo kodunu yazın.\n",
        "\n",
        "Başla\n",
        "    Yaz \"Birinci sayıyı girin:\"\n",
        "    Birinci sayı = Kullanıcının girdiği sayı\n",
        "    Yaz \"İkinci sayıyı girin:\"\n",
        "    İkinci sayı = Kullanıcının girdiği sayı\n",
        "    Toplam = Birinci sayı + İkinci sayı\n",
        "    Yaz \"Toplam: \" + Toplam\n",
        "Bitir"
      ],
      "metadata": {
        "id": "awJGLKSrspRP"
      },
      "execution_count": null,
      "outputs": []
    },
    {
      "cell_type": "code",
      "source": [
        "#SORU 2: 1'den 100' kadan olan sayıları toplayan bir programın pseudo kodunu yazın.\n",
        "\n",
        "Başla\n",
        "    Toplam = 0\n",
        "    Değişken = 1\n",
        "\n",
        "    Döngü Değişken 100'e eşit olana kadar tekrarla:                             # yani for i in range(1, 101):\n",
        "        Toplam = Toplam + Değişken\n",
        "        Değişken = Değişken + 1\n",
        "\n",
        "    Yaz \"1'den 100'e kadar olan sayıların toplamı: \" + Toplam\n",
        "Bitir"
      ],
      "metadata": {
        "id": "PC-qLAXnswrk"
      },
      "execution_count": null,
      "outputs": []
    },
    {
      "cell_type": "code",
      "source": [
        "#SORU 3: Kullanıcıdan alınan bir sayının asal olup olmadığını bulan bir programın pseudo kodunu yazın.\n",
        "\n",
        "Başla\n",
        "    Kullanıcıdan bir sayı iste\n",
        "    Sayı 1'den küçükse:\n",
        "        Yaz \"Asal sayı değil.\"\n",
        "        Bitir\n",
        "\n",
        "    Değişken = 5\n",
        "    Asal mı = True\n",
        "\n",
        "    Döngü Değişken, sayının kareköküne kadar tekrarla:\n",
        "        Eğer sayı, değişkene tam bölünüyorsa:\n",
        "            Asal mı = False\n",
        "            Döngüden çık\n",
        "\n",
        "        Değişken = Değişken + 1\n",
        "\n",
        "    Eğer Asal mı True ise:\n",
        "        Yaz \"Asal sayı.\"\n",
        "    Tam tersi ise:\n",
        "        Yaz \"Asal sayı değil.\"\n",
        "Bitir\n",
        "\n",
        "#Python ile yapılsaydı if ve else döngüsü kullanılırdı. n, i ve flag değişkenleri belirlenirdi."
      ],
      "metadata": {
        "id": "W7s_LoXF--y-"
      },
      "execution_count": null,
      "outputs": []
    },
    {
      "cell_type": "code",
      "source": [
        "#Soru 4: Bir dizideki (array) elemanların tekrar edip etmediğini kontrol eden bir programın pseudo kodunu yazın.\n",
        "\n",
        "Başla\n",
        "    Bir array tanımla\n",
        "    Boş bir \"bir kere bakılan elemanlar\" listesi oluştur\n",
        "\n",
        "    Her eleman için arrayde tekrarla:\n",
        "        Eğer eleman \"bir kere bakılan elemanlar\" listesinde varsa:\n",
        "            Yaz \"Arrayde tekrar eden eleman var.\"\n",
        "            Programı bitir\n",
        "        Tam tersi ise:\n",
        "            Elemanı \"bir kere bakılan elemanlar\" listesine ekle\n",
        "\n",
        "    Eğer döngü biterse:\n",
        "        Yaz \"Arrayde tekrar eden eleman yok\"\n",
        "Bitir"
      ],
      "metadata": {
        "id": "z42xpOFDADD9"
      },
      "execution_count": null,
      "outputs": []
    },
    {
      "cell_type": "markdown",
      "source": [
        "Bu ödevi yaparken hem hocanın derste kendi yazdığı kodlardan hemde ChatGPT'den yardım aldım."
      ],
      "metadata": {
        "id": "lZ00WarJAo1U"
      }
    },
    {
      "cell_type": "markdown",
      "source": [
        "Şevval Bağrıyanık"
      ],
      "metadata": {
        "id": "YIBCWUesBWNO"
      }
    }
  ]
}